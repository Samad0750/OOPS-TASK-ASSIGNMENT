{
 "cells": [
  {
   "cell_type": "code",
   "execution_count": 58,
   "id": "7e2a3049-253a-41ec-9329-88c7ad6d0b41",
   "metadata": {},
   "outputs": [],
   "source": [
    "#QUESTION 1\n",
    "\n",
    "class vehicle:\n",
    "    def __init__(self,name_of_vehicle, max_speed,average_of_vehicle):\n",
    "        self.name_of_vehicle=name_of_vehicle\n",
    "        self. max_speed= max_speed\n",
    "        self.average_of_vehicle=average_of_vehicle"
   ]
  },
  {
   "cell_type": "code",
   "execution_count": 59,
   "id": "b661cf02-183e-4654-9318-0058482948fe",
   "metadata": {},
   "outputs": [],
   "source": [
    "#QUESTION 2\n",
    "class child_car(vehicle):\n",
    "    def seating_capacity(self,seating_capacity):\n",
    "        return self.name_of_vehicle,self.seating_capacity"
   ]
  },
  {
   "cell_type": "code",
   "execution_count": 60,
   "id": "e446b5b4-2371-4a2a-9dfc-1166b87b0147",
   "metadata": {},
   "outputs": [
    {
     "name": "stdout",
     "output_type": "stream",
     "text": [
      "Car\n",
      "200\n",
      "30\n"
     ]
    }
   ],
   "source": [
    "car = vehicle(\"Car\", 200, 30)\n",
    "print(car.name_of_vehicle)\n",
    "print(car.max_speed)              \n",
    "print(car.average_of_vehicle)     "
   ]
  },
  {
   "cell_type": "markdown",
   "id": "0ad7920f-04d3-48bd-b712-18e9c46ef576",
   "metadata": {},
   "source": [
    "QUESTION 3\n",
    "\n",
    "Inheritance is the mechanism to achieve the re-usability of code as one class(child class) can derive the properties of another class(parent class)."
   ]
  },
  {
   "cell_type": "code",
   "execution_count": 61,
   "id": "3556a8ff-7309-405f-a64e-a49bdf150db8",
   "metadata": {},
   "outputs": [],
   "source": [
    "class C1:\n",
    "    def C1(self):\n",
    "        return \"this is my first class\"\n",
    "        \n",
    "    "
   ]
  },
  {
   "cell_type": "code",
   "execution_count": 62,
   "id": "840e7931-af42-4b47-808c-b9e2654124a2",
   "metadata": {},
   "outputs": [],
   "source": [
    "class C2(C1):\n",
    "    def C2(self):\n",
    "        return \"this is my second class\""
   ]
  },
  {
   "cell_type": "code",
   "execution_count": 63,
   "id": "0889c23a-1df6-43ac-9959-e7330bc9fed5",
   "metadata": {},
   "outputs": [],
   "source": [
    "class C3(C2):\n",
    "    def C3(self):\n",
    "        pass"
   ]
  },
  {
   "cell_type": "code",
   "execution_count": 64,
   "id": "32ecff5d-aaa4-45e6-b124-d2602b23f093",
   "metadata": {},
   "outputs": [],
   "source": [
    "C3_obj=C3()"
   ]
  },
  {
   "cell_type": "code",
   "execution_count": 65,
   "id": "892e6281-a269-48d9-b68e-43374ef03059",
   "metadata": {},
   "outputs": [
    {
     "data": {
      "text/plain": [
       "'this is my first class'"
      ]
     },
     "execution_count": 65,
     "metadata": {},
     "output_type": "execute_result"
    }
   ],
   "source": [
    "C3_obj.C1()"
   ]
  },
  {
   "cell_type": "code",
   "execution_count": 66,
   "id": "2be4f709-0f32-42bc-ad6f-96c547f5083e",
   "metadata": {},
   "outputs": [
    {
     "data": {
      "text/plain": [
       "'this is my second class'"
      ]
     },
     "execution_count": 66,
     "metadata": {},
     "output_type": "execute_result"
    }
   ],
   "source": [
    "C3_obj.C2()"
   ]
  },
  {
   "cell_type": "markdown",
   "id": "be09321d-25f7-49f6-8757-077f55ef0efd",
   "metadata": {},
   "source": [
    "QUESTION 4\n",
    " \n",
    "Getter and setter method is used to access those function which are private or not for the user.\n",
    "let us understand this by an example:-"
   ]
  },
  {
   "cell_type": "code",
   "execution_count": 67,
   "id": "bea20b2a-db0d-4a32-9305-c23ddb901538",
   "metadata": {},
   "outputs": [],
   "source": [
    "class car:\n",
    "    def __init__(self,model_name,price):\n",
    "        self.__model_name=model_name\n",
    "        self.price=price"
   ]
  },
  {
   "cell_type": "code",
   "execution_count": 68,
   "id": "10079526-b2fc-4101-830d-9126ff711eb3",
   "metadata": {},
   "outputs": [],
   "source": [
    "car_obj=car(\"fortuner\",4000000)"
   ]
  },
  {
   "cell_type": "code",
   "execution_count": 69,
   "id": "6eb2a4a1-962f-4ee2-96a2-349f4d07be92",
   "metadata": {},
   "outputs": [
    {
     "data": {
      "text/plain": [
       "4000000"
      ]
     },
     "execution_count": 69,
     "metadata": {},
     "output_type": "execute_result"
    }
   ],
   "source": [
    "car_obj.price"
   ]
  },
  {
   "cell_type": "code",
   "execution_count": 114,
   "id": "80fe67a7-b6a5-44ca-b25d-931eea5af076",
   "metadata": {},
   "outputs": [
    {
     "ename": "AttributeError",
     "evalue": "'car' object has no attribute 'model_name'",
     "output_type": "error",
     "traceback": [
      "\u001b[0;31m---------------------------------------------------------------------------\u001b[0m",
      "\u001b[0;31mAttributeError\u001b[0m                            Traceback (most recent call last)",
      "Cell \u001b[0;32mIn[114], line 1\u001b[0m\n\u001b[0;32m----> 1\u001b[0m \u001b[43mcar_obj\u001b[49m\u001b[38;5;241;43m.\u001b[39;49m\u001b[43mmodel_name\u001b[49m\n\u001b[1;32m      2\u001b[0m \u001b[38;5;66;03m#since here we are no geeting access  ..\u001b[39;00m\n",
      "\u001b[0;31mAttributeError\u001b[0m: 'car' object has no attribute 'model_name'"
     ]
    }
   ],
   "source": [
    "car_obj.model_name\n",
    "#since here we are no geeting access  .."
   ]
  },
  {
   "cell_type": "code",
   "execution_count": 115,
   "id": "12548568-e065-4d4c-9457-75071393ceeb",
   "metadata": {},
   "outputs": [],
   "source": [
    "class car:\n",
    "    def __init__(self,model_name,price):\n",
    "        self.__model_name=model_name\n",
    "        self.price=price\n",
    "        \n",
    "    @property\n",
    "    def get_model_name(self):\n",
    "        return self.__model_name\n",
    "    \n",
    "       \n",
    "  \n",
    "            \n",
    "      \n",
    " \n",
    "\n",
    "    \n",
    "    "
   ]
  },
  {
   "cell_type": "code",
   "execution_count": 116,
   "id": "b8a6dc74-9283-4983-a2ea-f5219173bf06",
   "metadata": {},
   "outputs": [],
   "source": [
    "car_obj=car(\"fortuner\",4000000)"
   ]
  },
  {
   "cell_type": "code",
   "execution_count": 117,
   "id": "04befd66-2696-43ce-be47-1e944be7d253",
   "metadata": {},
   "outputs": [],
   "source": [
    "class car:\n",
    "    def __init__(self,model_name,price):\n",
    "        self.__model_name=model_name\n",
    "        self.price=price\n",
    "        \n",
    "    @property\n",
    "    def get_model_name(self):\n",
    "        return self.__model_name\n",
    "    \n",
    "       \n",
    "    @get_model_name.setter\n",
    "    def set_model_name(self,model_name):\n",
    "        self.__model_name=model_name\n"
   ]
  },
  {
   "cell_type": "code",
   "execution_count": 118,
   "id": "97539633-e28b-43a0-8bde-72256f158fb2",
   "metadata": {},
   "outputs": [],
   "source": [
    "car_obj=car(\"fortuner\",4000000)\n"
   ]
  },
  {
   "cell_type": "code",
   "execution_count": 119,
   "id": "1b191ea7-2bef-42c3-a132-6462521e85a1",
   "metadata": {},
   "outputs": [
    {
     "data": {
      "text/plain": [
       "'fortuner'"
      ]
     },
     "execution_count": 119,
     "metadata": {},
     "output_type": "execute_result"
    }
   ],
   "source": [
    "car_obj.get_model_name"
   ]
  },
  {
   "cell_type": "code",
   "execution_count": 120,
   "id": "6a28dc0d-dd75-40c0-914a-ab31034de63b",
   "metadata": {},
   "outputs": [],
   "source": [
    "car_obj.set_model_name=\"kia sonet\""
   ]
  },
  {
   "cell_type": "code",
   "execution_count": 121,
   "id": "c3280526-bb38-4f61-89d5-24003c096def",
   "metadata": {},
   "outputs": [
    {
     "data": {
      "text/plain": [
       "'kia sonet'"
      ]
     },
     "execution_count": 121,
     "metadata": {},
     "output_type": "execute_result"
    }
   ],
   "source": [
    "car_obj.get_model_name"
   ]
  },
  {
   "cell_type": "markdown",
   "id": "5fc6b401-3ca2-4a93-bd38-8e01a8810341",
   "metadata": {},
   "source": [
    "QUESTION 5\n",
    "\n",
    "Method Overriding in Python is an OOPs concept closely related to inheritance. When a child class method overrides(or, provides it's own implementation) the parent class method of the same name, parameters and return type, it is known as method overriding.\n",
    "\n",
    "In this case, the child class's method is called the overriding method and the parent class's method is called the overriden method."
   ]
  },
  {
   "cell_type": "code",
   "execution_count": 218,
   "id": "2c82d1b8-a9db-4a00-acd7-5d871c7304ab",
   "metadata": {},
   "outputs": [],
   "source": [
    "class animal:\n",
    "    def walk(self):\n",
    "        print(\"i am the parent class\")\n",
    "        print(\"i am inherited to child_animal\")\n",
    "        "
   ]
  },
  {
   "cell_type": "code",
   "execution_count": 232,
   "id": "6192965d-59c9-4b77-9f21-ccb5ed22f6ba",
   "metadata": {},
   "outputs": [],
   "source": [
    "class child_animal(animal):\n",
    "    pass\n",
    "   \n",
    "\n",
    "    \n",
    "   "
   ]
  },
  {
   "cell_type": "code",
   "execution_count": 233,
   "id": "82d85718-4ae1-4eba-9d7e-b481952e0e3a",
   "metadata": {},
   "outputs": [],
   "source": [
    "child_animal_obj=child_animal()"
   ]
  },
  {
   "cell_type": "code",
   "execution_count": 234,
   "id": "8f6c9c2d-da7e-4cfd-bb26-059d9da7d57f",
   "metadata": {},
   "outputs": [
    {
     "name": "stdout",
     "output_type": "stream",
     "text": [
      "i am the parent class\n",
      "i am inherited to child_animal\n"
     ]
    }
   ],
   "source": [
    "child_animal_obj.walk()"
   ]
  },
  {
   "cell_type": "code",
   "execution_count": null,
   "id": "c3ccea03-abf5-4be8-b047-3d71fd3767f7",
   "metadata": {},
   "outputs": [],
   "source": []
  },
  {
   "cell_type": "code",
   "execution_count": null,
   "id": "944d8ee0-257e-4496-831b-6c6428bbe4cc",
   "metadata": {},
   "outputs": [],
   "source": []
  }
 ],
 "metadata": {
  "kernelspec": {
   "display_name": "Python 3 (ipykernel)",
   "language": "python",
   "name": "python3"
  },
  "language_info": {
   "codemirror_mode": {
    "name": "ipython",
    "version": 3
   },
   "file_extension": ".py",
   "mimetype": "text/x-python",
   "name": "python",
   "nbconvert_exporter": "python",
   "pygments_lexer": "ipython3",
   "version": "3.10.8"
  }
 },
 "nbformat": 4,
 "nbformat_minor": 5
}
